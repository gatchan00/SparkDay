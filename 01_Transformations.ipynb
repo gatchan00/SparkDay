{
 "cells": [
  {
   "cell_type": "code",
   "execution_count": 1,
   "id": "f4b30334-1845-4395-b09d-4485a6dc2550",
   "metadata": {
    "tags": []
   },
   "outputs": [
    {
     "name": "stderr",
     "output_type": "stream",
     "text": [
      "Setting spark.hadoop.yarn.resourcemanager.principal to user050\n",
      "Using Spark's default log4j profile: org/apache/spark/log4j-defaults.properties\n",
      "Setting default log level to \"WARN\".\n",
      "To adjust logging level use sc.setLogLevel(newLevel). For SparkR, use setLogLevel(newLevel).\n",
      "24/01/22 12:56:53 WARN Utils: Service 'SparkUI' could not bind on port 20049. Attempting port 20050.\n",
      "24/01/22 12:56:53 WARN Utils: Service 'SparkUI' could not bind on port 20050. Attempting port 20051.\n",
      "24/01/22 12:56:53 WARN Utils: Service 'SparkUI' could not bind on port 20051. Attempting port 20052.\n",
      "24/01/22 12:56:53 WARN Utils: Service 'SparkUI' could not bind on port 20052. Attempting port 20053.\n",
      "24/01/22 12:56:53 WARN Utils: Service 'SparkUI' could not bind on port 20053. Attempting port 20054.\n",
      "24/01/22 12:57:01 WARN HiveServer2CredentialProvider: Failed to get HS2 delegation token\n",
      "java.util.NoSuchElementException: spark.sql.hive.hiveserver2.jdbc.url\n",
      "\tat org.apache.spark.SparkConf.$anonfun$get$1(SparkConf.scala:245)\n",
      "\tat scala.Option.getOrElse(Option.scala:189)\n",
      "\tat org.apache.spark.SparkConf.get(SparkConf.scala:245)\n",
      "\tat com.hortonworks.spark.deploy.yarn.security.HiveServer2CredentialProvider.obtainDelegationTokens(HiveServer2CredentialProvider.scala:64)\n",
      "\tat org.apache.spark.deploy.security.HadoopDelegationTokenManager.$anonfun$obtainDelegationTokens$2(HadoopDelegationTokenManager.scala:164)\n",
      "\tat scala.collection.TraversableLike.$anonfun$flatMap$1(TraversableLike.scala:245)\n",
      "\tat scala.collection.Iterator.foreach(Iterator.scala:941)\n",
      "\tat scala.collection.Iterator.foreach$(Iterator.scala:941)\n",
      "\tat scala.collection.AbstractIterator.foreach(Iterator.scala:1429)\n",
      "\tat scala.collection.MapLike$DefaultValuesIterable.foreach(MapLike.scala:213)\n",
      "\tat scala.collection.TraversableLike.flatMap(TraversableLike.scala:245)\n",
      "\tat scala.collection.TraversableLike.flatMap$(TraversableLike.scala:242)\n",
      "\tat scala.collection.AbstractTraversable.flatMap(Traversable.scala:108)\n",
      "\tat org.apache.spark.deploy.security.HadoopDelegationTokenManager.org$apache$spark$deploy$security$HadoopDelegationTokenManager$$obtainDelegationTokens(HadoopDelegationTokenManager.scala:162)\n",
      "\tat org.apache.spark.deploy.security.HadoopDelegationTokenManager$$anon$4.run(HadoopDelegationTokenManager.scala:226)\n",
      "\tat org.apache.spark.deploy.security.HadoopDelegationTokenManager$$anon$4.run(HadoopDelegationTokenManager.scala:224)\n",
      "\tat java.security.AccessController.doPrivileged(Native Method)\n",
      "\tat javax.security.auth.Subject.doAs(Subject.java:422)\n",
      "\tat org.apache.hadoop.security.UserGroupInformation.doAs(UserGroupInformation.java:1899)\n",
      "\tat org.apache.spark.deploy.security.HadoopDelegationTokenManager.obtainTokensAndScheduleRenewal(HadoopDelegationTokenManager.scala:224)\n",
      "\tat org.apache.spark.deploy.security.HadoopDelegationTokenManager.org$apache$spark$deploy$security$HadoopDelegationTokenManager$$updateTokensTask(HadoopDelegationTokenManager.scala:198)\n",
      "\tat org.apache.spark.deploy.security.HadoopDelegationTokenManager.start(HadoopDelegationTokenManager.scala:123)\n",
      "\tat org.apache.spark.scheduler.cluster.CoarseGrainedSchedulerBackend.$anonfun$start$1(CoarseGrainedSchedulerBackend.scala:552)\n",
      "\tat org.apache.spark.scheduler.cluster.CoarseGrainedSchedulerBackend.$anonfun$start$1$adapted(CoarseGrainedSchedulerBackend.scala:549)\n",
      "\tat scala.Option.foreach(Option.scala:407)\n",
      "\tat org.apache.spark.scheduler.cluster.CoarseGrainedSchedulerBackend.start(CoarseGrainedSchedulerBackend.scala:549)\n",
      "\tat org.apache.spark.scheduler.cluster.k8s.KubernetesClusterSchedulerBackend.start(KubernetesClusterSchedulerBackend.scala:95)\n",
      "\tat org.apache.spark.scheduler.TaskSchedulerImpl.start(TaskSchedulerImpl.scala:220)\n",
      "\tat org.apache.spark.SparkContext.<init>(SparkContext.scala:581)\n",
      "\tat org.apache.spark.api.java.JavaSparkContext.<init>(JavaSparkContext.scala:58)\n",
      "\tat sun.reflect.NativeConstructorAccessorImpl.newInstance0(Native Method)\n",
      "\tat sun.reflect.NativeConstructorAccessorImpl.newInstance(NativeConstructorAccessorImpl.java:62)\n",
      "\tat sun.reflect.DelegatingConstructorAccessorImpl.newInstance(DelegatingConstructorAccessorImpl.java:45)\n",
      "\tat java.lang.reflect.Constructor.newInstance(Constructor.java:423)\n",
      "\tat py4j.reflection.MethodInvoker.invoke(MethodInvoker.java:247)\n",
      "\tat py4j.reflection.ReflectionEngine.invoke(ReflectionEngine.java:357)\n",
      "\tat py4j.Gateway.invoke(Gateway.java:238)\n",
      "\tat py4j.commands.ConstructorCommand.invokeConstructor(ConstructorCommand.java:80)\n",
      "\tat py4j.commands.ConstructorCommand.execute(ConstructorCommand.java:69)\n",
      "\tat py4j.ClientServerConnection.waitForCommands(ClientServerConnection.java:182)\n",
      "\tat py4j.ClientServerConnection.run(ClientServerConnection.java:106)\n",
      "\tat java.lang.Thread.run(Thread.java:750)\n",
      "24/01/22 12:57:02 WARN ExecutorAllocationManager: Dynamic allocation without a shuffle service is an experimental feature.\n"
     ]
    }
   ],
   "source": [
    "import pyspark\n",
    "from pyspark import SparkContext\n",
    "sc =SparkContext()"
   ]
  },
  {
   "cell_type": "code",
   "execution_count": 5,
   "id": "0e9388ca-dadb-4e7e-bb60-b9ee71d8acda",
   "metadata": {
    "tags": []
   },
   "outputs": [
    {
     "data": {
      "text/plain": [
       "['Frozen, 2013',\n",
       " 'Toy Story, 1995',\n",
       " 'WALL-E, 2008',\n",
       " 'Despicable Me,                               2010',\n",
       " 'Shrek, 2001',\n",
       " 'The Lego Movie, 2014',\n",
       " 'Alice in Wonderland,2010']"
      ]
     },
     "execution_count": 5,
     "metadata": {},
     "output_type": "execute_result"
    }
   ],
   "source": [
    "movies = sc.parallelize( [\"Frozen, 2013\",\\\n",
    "                               \"Toy Story, 1995\",\\\n",
    "                               \"WALL-E, 2008\",\"Despicable Me,\\\n",
    "                               2010\", \"Shrek, 2001\",\\\n",
    "                               \"The Lego Movie, 2014\",\\\n",
    "                               \"Alice in Wonderland,2010\"] )\n",
    "movies.collect()"
   ]
  },
  {
   "cell_type": "code",
   "execution_count": 6,
   "id": "c2769de9-2313-42cd-aea8-a4cd99e15c2b",
   "metadata": {
    "tags": []
   },
   "outputs": [
    {
     "data": {
      "text/plain": [
       "['Despicable Me,                               2010',\n",
       " 'Alice in Wonderland,2010']"
      ]
     },
     "execution_count": 6,
     "metadata": {},
     "output_type": "execute_result"
    }
   ],
   "source": [
    "filtro = (lambda m: int(m.split(\",\")[-1].strip()) == 2010)\n",
    "movies2010 = movies.filter(filtro)\n",
    "\n",
    "movies2010.collect()\n"
   ]
  },
  {
   "cell_type": "code",
   "execution_count": 7,
   "id": "9dfe7538-d403-42cc-8c0b-0e63929ee9fb",
   "metadata": {
    "tags": []
   },
   "outputs": [
    {
     "data": {
      "text/plain": [
       "[('Despicable Me,                               2010',\n",
       "  {'Animation', 'Family'}),\n",
       " ('Alice in Wonderland,2010', {'Animation', 'Family'})]"
      ]
     },
     "execution_count": 7,
     "metadata": {},
     "output_type": "execute_result"
    }
   ],
   "source": [
    "familyMovies = movies2010.map(lambda m:(m, {\"Family\",\"Animation\"}))\n",
    "familyMovies.collect()"
   ]
  },
  {
   "cell_type": "code",
   "execution_count": 8,
   "id": "5dd5fc35-fe55-4466-8944-519502c06f98",
   "metadata": {
    "tags": []
   },
   "outputs": [
    {
     "name": "stderr",
     "output_type": "stream",
     "text": [
      "                                                                                \r"
     ]
    },
    {
     "data": {
      "text/plain": [
       "[('Frozen', '2013'),\n",
       " ('Toy Story', '1995'),\n",
       " ('WALL-E', '2008'),\n",
       " ('Despicable Me', '2010'),\n",
       " ('Shrek', '2001'),\n",
       " ('The Lego Movie', '2014'),\n",
       " ('Alice in Wonderland', '2010')]"
      ]
     },
     "execution_count": 8,
     "metadata": {},
     "output_type": "execute_result"
    }
   ],
   "source": [
    "mapMovies = movies.map(lambda m: (m.split(\",\")[0], m.split(\",\")[-1].strip()))\n",
    "mapMovies.collect()"
   ]
  },
  {
   "cell_type": "code",
   "execution_count": 9,
   "id": "7f525a31-bcba-4425-bf26-ba6ac3a2f005",
   "metadata": {
    "tags": []
   },
   "outputs": [
    {
     "data": {
      "text/plain": [
       "['Family', 'Animation']"
      ]
     },
     "execution_count": 9,
     "metadata": {},
     "output_type": "execute_result"
    }
   ],
   "source": [
    "familyGenres = familyMovies.flatMap(lambda tuple: tuple[1]).distinct()\n",
    "familyGenres.collect()\n"
   ]
  },
  {
   "cell_type": "code",
   "execution_count": 10,
   "id": "00b5ec19-3301-4019-9976-aa7c60790b5e",
   "metadata": {
    "tags": []
   },
   "outputs": [
    {
     "data": {
      "text/plain": [
       "[('Family', 'Animation'), ('Animation', 'Family')]"
      ]
     },
     "execution_count": 10,
     "metadata": {},
     "output_type": "execute_result"
    }
   ],
   "source": [
    "pairs = familyGenres.cartesian(familyGenres).filter(lambda tuple: tuple[0] != tuple[1])\n",
    "pairs.collect()\n"
   ]
  },
  {
   "cell_type": "code",
   "execution_count": null,
   "id": "215df9df-522a-4c83-ba44-8205152968b4",
   "metadata": {},
   "outputs": [],
   "source": [
    "#Extra\n",
    "rdd = sc.parallelize([(\"a\", 1), (\"b\", 1), (\"a\", 2),(\"a\", 9)])\n",
    "seqFunc = (lambda acc, value: (acc[0] + str(value) , acc[1] + value))\n",
    "combFunc = (lambda acc1, acc2: (acc1[0] + acc2[0], acc1[1] + acc2[1]))\n",
    "sorted(rdd.aggregateByKey((\"\", 0), seqFunc, combFunc).collect())"
   ]
  }
 ],
 "metadata": {
  "kernelspec": {
   "display_name": "Python 3 (ipykernel)",
   "language": "python",
   "name": "python3"
  },
  "language_info": {
   "codemirror_mode": {
    "name": "ipython",
    "version": 3
   },
   "file_extension": ".py",
   "mimetype": "text/x-python",
   "name": "python",
   "nbconvert_exporter": "python",
   "pygments_lexer": "ipython3",
   "version": "3.9.18"
  }
 },
 "nbformat": 4,
 "nbformat_minor": 5
}
